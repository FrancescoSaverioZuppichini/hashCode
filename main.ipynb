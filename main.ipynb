{
 "cells": [
  {
   "cell_type": "code",
   "execution_count": 1,
   "metadata": {},
   "outputs": [],
   "source": [
    "import numpy as np"
   ]
  },
  {
   "cell_type": "code",
   "execution_count": 2,
   "metadata": {},
   "outputs": [],
   "source": [
    "FILE_PATH = './a_example.in'"
   ]
  },
  {
   "cell_type": "code",
   "execution_count": 41,
   "metadata": {},
   "outputs": [
    {
     "name": "stdout",
     "output_type": "stream",
     "text": [
      "['3 4 2 3 2 10\\n', '0 0 1 3 2 9\\n', '1 2 1 0 0 9\\n', '2 0 2 2 0 9\\n']\n"
     ]
    },
    {
     "data": {
      "text/plain": [
       "array([[3, 4, 2, 3, 2, 1],\n",
       "       [0, 0, 1, 3, 2, 9],\n",
       "       [1, 2, 1, 0, 0, 9],\n",
       "       [2, 0, 2, 2, 0, 9]])"
      ]
     },
     "execution_count": 41,
     "metadata": {},
     "output_type": "execute_result"
    }
   ],
   "source": [
    "with open(FILE_PATH, encoding='utf-8') as file:\n",
    "    lines = file.readlines()\n",
    "    raw_data = [line.split(' ') for line in lines]\n",
    "\n",
    "print(lines)\n",
    "data = np.array(raw_data)\n",
    "\n",
    "data = parser_func(data)\n",
    "\n",
    "data"
   ]
  },
  {
   "cell_type": "code",
   "execution_count": 46,
   "metadata": {},
   "outputs": [
    {
     "data": {
      "text/plain": [
       "{'bonus': [0, 4],\n",
       " 'columns': 4,\n",
       " 'rides': 3,\n",
       " 'rows': 3,\n",
       " 'steps': [0, 5],\n",
       " 'vehicles': 2}"
      ]
     },
     "execution_count": 46,
     "metadata": {},
     "output_type": "execute_result"
    }
   ],
   "source": [
    "problem = {'rows': data[0,0], 'columns': data[0,1], 'vehicles': data[0,2], 'rides': data[0,3], 'bonus': [0,4], 'steps': [0,5]}\n",
    "\n",
    "problem"
   ]
  },
  {
   "cell_type": "code",
   "execution_count": null,
   "metadata": {},
   "outputs": [],
   "source": []
  },
  {
   "cell_type": "code",
   "execution_count": null,
   "metadata": {},
   "outputs": [],
   "source": []
  },
  {
   "cell_type": "code",
   "execution_count": null,
   "metadata": {},
   "outputs": [],
   "source": []
  }
 ],
 "metadata": {
  "kernelspec": {
   "display_name": "Python 3",
   "language": "python",
   "name": "python3"
  },
  "language_info": {
   "codemirror_mode": {
    "name": "ipython",
    "version": 3
   },
   "file_extension": ".py",
   "mimetype": "text/x-python",
   "name": "python",
   "nbconvert_exporter": "python",
   "pygments_lexer": "ipython3",
   "version": "3.6.2"
  }
 },
 "nbformat": 4,
 "nbformat_minor": 2
}
