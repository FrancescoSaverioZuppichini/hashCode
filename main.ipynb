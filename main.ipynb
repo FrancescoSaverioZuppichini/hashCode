{
 "cells": [
  {
   "cell_type": "code",
   "execution_count": 1,
   "metadata": {},
   "outputs": [],
   "source": [
    "import numpy as np"
   ]
  },
  {
   "cell_type": "code",
   "execution_count": 2,
   "metadata": {},
   "outputs": [],
   "source": [
    "FILE_PATH = './a_example.in'"
   ]
  },
  {
   "cell_type": "code",
   "execution_count": 3,
   "metadata": {
    "scrolled": false
   },
   "outputs": [
    {
     "data": {
      "text/plain": [
       "array([[ 3,  4,  2,  3,  2, 10],\n",
       "       [ 0,  0,  1,  3,  2,  9],\n",
       "       [ 1,  2,  1,  0,  0,  9],\n",
       "       [ 2,  0,  2,  2,  0,  9]])"
      ]
     },
     "execution_count": 3,
     "metadata": {},
     "output_type": "execute_result"
    }
   ],
   "source": [
    "with open(FILE_PATH, encoding='utf-8') as file:\n",
    "    lines = file.readlines()\n",
    "    raw_data = [line.split(' ') for line in lines]\n",
    "\n",
    "    \n",
    "parser_func = np.vectorize(lambda x: int(x))\n",
    "data = np.array(raw_data)\n",
    "\n",
    "data = parser_func(data)\n",
    "\n",
    "data"
   ]
  },
  {
   "cell_type": "code",
   "execution_count": 4,
   "metadata": {},
   "outputs": [
    {
     "data": {
      "text/plain": [
       "{'bonus': 2, 'columns': 4, 'data': array([[0, 0, 1, 3, 2, 9],\n",
       "        [1, 2, 1, 0, 0, 9],\n",
       "        [2, 0, 2, 2, 0, 9]]), 'rides': 3, 'rows': 3, 'steps': 10, 'vehicles': 2}"
      ]
     },
     "execution_count": 4,
     "metadata": {},
     "output_type": "execute_result"
    }
   ],
   "source": [
    "problem = {'rows': data[0,0], \n",
    "           'columns': data[0,1], \n",
    "           'vehicles': data[0,2], \n",
    "           'rides': data[0,3], \n",
    "           'bonus': data[0,4], \n",
    "           'steps': data[0,5],\n",
    "           'data': data[1:,:]\n",
    "          }\n",
    "problem"
   ]
  },
  {
   "cell_type": "code",
   "execution_count": 24,
   "metadata": {},
   "outputs": [
    {
     "name": "stdout",
     "output_type": "stream",
     "text": [
      "{'done': (False,), 'start': array([0, 0]), 'to': array([1, 3]), 'latest': 2, 'finish': 9}\n"
     ]
    }
   ],
   "source": [
    "class Ride:\n",
    "    def __init__(self, id, row):\n",
    "        self.done = False,\n",
    "        self.start = row[0:2] # it was 'from'\n",
    "        self.to = row[2:4]\n",
    "        self.latest = row[4]\n",
    "        self.finish = row[-1]\n",
    "        \n",
    "print(Ride(1, problem['data'][0]).__dict__)\n",
    "\n",
    "class Car:\n",
    "    def __init__(self, id):\n",
    "        self.id = id\n",
    "        self.pos = None\n",
    "        self.state = None\n",
    "        self.target = None\n",
    "        self.rides = []"
   ]
  },
  {
   "cell_type": "code",
   "execution_count": null,
   "metadata": {},
   "outputs": [],
   "source": []
  }
 ],
 "metadata": {
  "kernelspec": {
   "display_name": "Python 3",
   "language": "python",
   "name": "python3"
  },
  "language_info": {
   "codemirror_mode": {
    "name": "ipython",
    "version": 3
   },
   "file_extension": ".py",
   "mimetype": "text/x-python",
   "name": "python",
   "nbconvert_exporter": "python",
   "pygments_lexer": "ipython3",
   "version": "3.6.2"
  }
 },
 "nbformat": 4,
 "nbformat_minor": 2
}
